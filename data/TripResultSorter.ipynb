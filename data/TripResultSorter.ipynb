{
 "cells": [
  {
   "cell_type": "code",
   "execution_count": 197,
   "id": "58b4905f-1188-413b-a871-686d3a6c80bc",
   "metadata": {},
   "outputs": [],
   "source": [
    "import json, operator\n",
    "from datetime import datetime\n",
    "from datetime import date\n",
    "import calendar"
   ]
  },
  {
   "cell_type": "code",
   "execution_count": 198,
   "id": "c928083f-c88f-4142-aee1-b4dc16892eb9",
   "metadata": {},
   "outputs": [],
   "source": [
    "def isdepartDateChecker(elementInJSON):\n",
    "    return (\"departDate\" in elementInJSON)\n",
    "\n",
    "def isweekdaysChecker(elementInJSON):\n",
    "    return (\"weekdays\" in elementInJSON)\n",
    "\n",
    "def isdepartDateToday(elementInJSON):\n",
    "    return(elementInJSON[\"departDate\"]==date.today())\n",
    "\n",
    "def isdepartDateRecurrentToday(elementInJSON):\n",
    "    return(todayday in elementInJSON[\"weekdays\"])\n",
    "\n",
    "def jsonListSorter(tmpTripList):\n",
    "    tmpTripList.sort(key=lambda date: datetime.strptime(date[\"departTime\"], \"%H:%M\"))\n",
    "    json.dump(tmpTripList,outfile)"
   ]
  },
  {
   "cell_type": "code",
   "execution_count": 199,
   "id": "0564b668-9c6e-4b60-ba2b-d447ba746218",
   "metadata": {},
   "outputs": [],
   "source": [
    "f = open('data.json')\n",
    "jsonelements =json.load(f)\n",
    "today = date.today()\n",
    "tmpTripList=[]\n",
    "todayday=calendar.day_name[today.weekday()].lower()\n",
    "with open(\"SortedTrips.json\", \"w\") as outfile:\n",
    "    for jsonelement in jsonelements: \n",
    "        if isdepartDateChecker(jsonelement) and isdepartDateToday(jsonelement):\n",
    "            tmpTripList.append(jsonelement)\n",
    "        elif isweekdaysChecker(jsonelement) and isdepartDateRecurrentToday(jsonelement):\n",
    "            tmpTripList.append(jsonelement)\n",
    "    jsonListSorter(tmpTripList)    "
   ]
  }
 ],
 "metadata": {
  "kernelspec": {
   "display_name": "Python 3 (ipykernel)",
   "language": "python",
   "name": "python3"
  },
  "language_info": {
   "codemirror_mode": {
    "name": "ipython",
    "version": 3
   },
   "file_extension": ".py",
   "mimetype": "text/x-python",
   "name": "python",
   "nbconvert_exporter": "python",
   "pygments_lexer": "ipython3",
   "version": "3.7.3"
  }
 },
 "nbformat": 4,
 "nbformat_minor": 5
}
